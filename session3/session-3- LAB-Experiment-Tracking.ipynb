{
 "cells": [
  {
   "cell_type": "markdown",
   "metadata": {},
   "source": [
    "# Laboratorio: Búsqueda en Rejilla (Grid Search) con MLflow\n",
    "\n",
    "## En este laboratorio, tú:\n",
    " - Realizarás una búsqueda en rejilla (grid search) usando scikit-learn.\n",
    " - Registrarás el mejor modelo en MLflow.\n",
    " - Cargarás el modelo guardado para usarlo."
   ]
  },
  {
   "cell_type": "markdown",
   "metadata": {},
   "source": [
    "### Preparación del Entorno\n",
    "\n",
    "Antes de empezar, asegúrate de tener las librerías necesarias. Puedes instalarlas ejecutando la siguiente celda.\n",
    "\n",
    "Además, para visualizar tus experimentos, abre una terminal, navega a la carpeta de este notebook y ejecuta `mlflow ui`. Esto iniciará la interfaz de MLflow, generalmente en `http://127.0.0.1:5000`."
   ]
  },
  {
   "cell_type": "code",
   "execution_count": null,
   "metadata": {},
   "outputs": [],
   "source": [
    "# Descomenta y ejecuta si no tienes las librerías instaladas\n",
    "!pip install mlflow scikit-learn pandas"
   ]
  },
  {
   "cell_type": "markdown",
   "metadata": {},
   "source": [
    "## Importación de Datos\n",
    "\n",
    "Cargamos el conjunto de datos de viviendas y creamos una división para entrenamiento y prueba."
   ]
  },
  {
   "cell_type": "code",
   "execution_count": null,
   "metadata": {},
   "outputs": [],
   "source": [
    "import pandas as pd\n",
    "from sklearn.model_selection import train_test_split\n",
    "from sklearn import datasets\n",
    "\n",
    "# Cargar los datos\n",
    "housing = datasets.fetch_california_housing()\n",
    "X = pd.DataFrame(housing.data, columns=housing.feature_names)\n",
    "y = housing.target\n",
    "\n",
    "X_train, X_test, y_train, y_test = train_test_split(X, y, random_state=42)"
   ]
  },
  {
   "cell_type": "markdown",
   "metadata": {},
   "source": [
    "## Realizar Búsqueda en Rejilla (Grid Search) con scikit-learn\n",
    "\n",
    "Queremos saber qué combinación de hiperparámetros es la más efectiva. Completa el código a continuación para realizar una <a href=\"https://scikit-learn.org/stable/modules/generated/sklearn.model_selection.GridSearchCV.html#sklearn.model_selection.GridSearchCV\" target=\"_blank\">búsqueda en rejilla usando **`sklearn`**</a>.\n",
    "\n",
    "Establece **`n_estimators`** a **`[50, 100]`** y **`max_depth`** a **`[3, 5]`**."
   ]
  },
  {
   "cell_type": "code",
   "execution_count": null,
   "metadata": {},
   "outputs": [],
   "source": [
    "import mlflow.sklearn\n",
    "from sklearn.ensemble import RandomForestRegressor\n",
    "from sklearn.model_selection import GridSearchCV\n",
    "\n",
    "# Diccionario con los nombres de los hiperparámetros y la lista de valores que queremos probar\n",
    "parameters = {\"n_estimators\": #FILL_IN , \n",
    "              \"max_depth\": #FILL_IN }\n",
    "\n",
    "rf = RandomForestRegressor(random_state=42)\n",
    "grid_rf_model = GridSearchCV(rf, parameters, cv=3)\n",
    "grid_rf_model.fit(X_train, y_train)\n",
    "\n",
    "# Obtenemos el mejor estimador (el mejor modelo entrenado)\n",
    "best_rf = grid_rf_model.best_estimator_\n",
    "\n",
    "print(\"Mejores Hiperparámetros Encontrados:\")\n",
    "for p in parameters:\n",
    "    print(f\"Mejor '{p}': {best_rf.get_params()[p]}\")"
   ]
  },
  {
   "cell_type": "markdown",
   "metadata": {},
   "source": [
    "## Registrar el Mejor Modelo con MLflow\n",
    "\n",
    "Registra el mejor modelo como **`grid-random-forest-model`**, sus parámetros y su métrica MSE bajo una ejecución con el nombre **`RF-Grid-Search`** en un nuevo experimento de MLflow."
   ]
  },
  {
   "cell_type": "code",
   "execution_count": null,
   "metadata": {},
   "outputs": [],
   "source": [
    "from sklearn.metrics import mean_squared_error\n",
    "\n",
    "with mlflow.start_run(run_name= FILL_IN) as run:\n",
    "    # Create predictions of X_test using best model\n",
    "    # FILL_IN\n",
    "\n",
    "    # Log model with name\n",
    "    # FILL_IN\n",
    "\n",
    "    # Log params\n",
    "    # FILL_IN\n",
    "\n",
    "    # Create and log MSE metrics using predictions of X_test and its actual value y_test\n",
    "    # FILL_IN\n",
    "\n",
    "    run_id = run.info.run_id\n",
    "    print(f\"Inside MLflow Run with id {run_id}\")"
   ]
  },
  {
   "cell_type": "markdown",
   "metadata": {},
   "source": [
    "## Cargar el Modelo Guardado\n",
    "\n",
    "Carga el modelo entrenado y ajustado que acabamos de guardar. Verifica que los hiperparámetros de este modelo coincidan con los del mejor modelo que encontramos anteriormente."
   ]
  },
  {
   "cell_type": "code",
   "execution_count": null,
   "metadata": {},
   "outputs": [],
   "source": [
    "# La URI del modelo tiene el formato \"runs:/<run_id>/<artifact_path>\"\n",
    "model_uri = < FILL_IN >"
   ]
  },
  {
   "cell_type": "markdown",
   "metadata": {},
   "source": [
    "## Opcional: Interactuar con `MlflowClient`\n",
    "\n",
    "Si el tiempo lo permite, usa `MlflowClient` para interactuar programáticamente con tu ejecución."
   ]
  },
  {
   "cell_type": "code",
   "execution_count": null,
   "metadata": {},
   "outputs": [],
   "source": [
    "from mlflow.tracking import MlflowClient\n",
    "\n",
    "# Inicializa el cliente\n",
    "client = < FILL_IN >\n",
    "\n",
    "# Obtiene los datos de la ejecución que acabamos de realizar\n",
    "run_data = < FILL_IN >\n",
    "\n",
    "< FILL_IN >"
   ]
  }
 ],
 "metadata": {
  "kernelspec": {
   "display_name": "mlops-course",
   "language": "python",
   "name": "python3"
  },
  "language_info": {
   "codemirror_mode": {
    "name": "ipython",
    "version": 3
   },
   "file_extension": ".py",
   "mimetype": "text/x-python",
   "name": "python",
   "nbconvert_exporter": "python",
   "pygments_lexer": "ipython3",
   "version": "3.11.9"
  }
 },
 "nbformat": 4,
 "nbformat_minor": 4
}
