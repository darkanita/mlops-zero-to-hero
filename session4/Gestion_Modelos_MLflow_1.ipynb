{
 "cells": [
  {
   "cell_type": "markdown",
   "id": "9aec5e8b",
   "metadata": {},
   "source": [
    "# Gestión de Modelos con MLflow y PyFunc\n",
    "Este notebook demuestra cómo crear un modelo personalizado con lógica de preprocesamiento usando MLflow `pyfunc`, y cómo guardarlo, cargarlo y reutilizarlo."
   ]
  },
  {
   "cell_type": "markdown",
   "id": "778ed221",
   "metadata": {},
   "source": [
    "## 1. Importar librerías necesarias"
   ]
  },
  {
   "cell_type": "code",
   "execution_count": 1,
   "id": "1510bc6e",
   "metadata": {},
   "outputs": [],
   "source": [
    "import pandas as pd\n",
    "import json\n",
    "import os\n",
    "from sklearn.model_selection import train_test_split\n",
    "from sklearn.ensemble import RandomForestClassifier\n",
    "from mlflow.models.signature import infer_signature\n",
    "import mlflow\n",
    "import mlflow.pyfunc\n",
    "from sys import version_info\n",
    "import sklearn"
   ]
  },
  {
   "cell_type": "markdown",
   "id": "564fdab2",
   "metadata": {},
   "source": [
    "## 2. Cargar los datos\n",
    "Cargamos los datos de calidad del vino (vino blanco y tinto).\n",
    "\n",
    "[Descargar](https://archive.ics.uci.edu/dataset/186/wine+quality)"
   ]
  },
  {
   "cell_type": "code",
   "execution_count": 2,
   "id": "de3f9400",
   "metadata": {},
   "outputs": [],
   "source": [
    "vino_blanco = pd.read_csv(\"winequality-white.csv\", sep=\";\")\n",
    "vino_tinto = pd.read_csv(\"winequality-red.csv\", sep=\";\")"
   ]
  },
  {
   "cell_type": "code",
   "execution_count": 3,
   "id": "0b8c79a6",
   "metadata": {},
   "outputs": [],
   "source": [
    "vino_tinto['es_tinto'] = 1\n",
    "vino_blanco['es_tinto'] = 0"
   ]
  },
  {
   "cell_type": "code",
   "execution_count": 4,
   "id": "1990356c",
   "metadata": {},
   "outputs": [
    {
     "data": {
      "text/plain": [
       "Index(['fixed acidity', 'volatile acidity', 'citric acid', 'residual sugar',\n",
       "       'chlorides', 'free sulfur dioxide', 'total sulfur dioxide', 'density',\n",
       "       'pH', 'sulphates', 'alcohol', 'quality', 'es_tinto'],\n",
       "      dtype='object')"
      ]
     },
     "execution_count": 4,
     "metadata": {},
     "output_type": "execute_result"
    }
   ],
   "source": [
    "vino_blanco.columns"
   ]
  },
  {
   "cell_type": "code",
   "execution_count": 5,
   "id": "d33f93e9",
   "metadata": {},
   "outputs": [],
   "source": [
    "datos = pd.concat([vino_tinto, vino_blanco], axis=0)\n",
    "datos.rename(columns=lambda x: x.replace(' ', '_'), inplace=True)\n",
    "datos['quality'] = (datos.quality >= 7).astype(int)"
   ]
  },
  {
   "cell_type": "code",
   "execution_count": 6,
   "id": "f8fc2cd1",
   "metadata": {},
   "outputs": [],
   "source": [
    "datos.reset_index(drop=True, inplace=True)\n",
    "datos.dropna(inplace=True)"
   ]
  },
  {
   "cell_type": "markdown",
   "id": "e0fbe825",
   "metadata": {},
   "source": [
    "## 3. Dividir en entrenamiento y prueba"
   ]
  },
  {
   "cell_type": "code",
   "execution_count": 7,
   "id": "bb5a4a8d",
   "metadata": {},
   "outputs": [],
   "source": [
    "train, test = train_test_split(datos, random_state=123)\n",
    "X_train = train.drop([\"quality\"], axis=1)\n",
    "X_test = test.drop([\"quality\"], axis=1)\n",
    "y_train = train.quality\n",
    "y_test = test.quality"
   ]
  },
  {
   "cell_type": "markdown",
   "id": "f829dd98",
   "metadata": {},
   "source": [
    "## 4. Crear la clase personalizada con preprocesamiento\n",
    "Esta clase define un modelo que incluye lógica de preprocesamiento antes de entrenar o predecir."
   ]
  },
  {
   "cell_type": "code",
   "execution_count": 9,
   "id": "79525ca2",
   "metadata": {},
   "outputs": [
    {
     "name": "stderr",
     "output_type": "stream",
     "text": [
      "c:\\Users\\alopezmoreno\\OneDrive - Microsoft\\Desktop\\MLOps-UTP\\mlops-course\\.venv\\Lib\\site-packages\\mlflow\\pyfunc\\utils\\data_validation.py:186: UserWarning: \u001b[33mAdd type hints to the `predict` method to enable data validation and automatic signature inference during model logging. Check https://mlflow.org/docs/latest/model/python_model.html#type-hint-usage-in-pythonmodel for more details.\u001b[0m\n",
      "  color_warning(\n"
     ]
    }
   ],
   "source": [
    "class RFWithPreprocess(mlflow.pyfunc.PythonModel):\n",
    "\n",
    "    def __init__(self, params):\n",
    "        \"\"\"\n",
    "        Initialize with just the model hyperparameters\n",
    "        \"\"\"\n",
    "        self.params = params\n",
    "        self.rf_model = None\n",
    "              \n",
    "    def preprocess_input(self, model_input):\n",
    "        \"\"\"\n",
    "        Return pre-processed model_input\n",
    "        \"\"\"\n",
    "        processed_input = model_input.copy()\n",
    "        \"\"\"\n",
    "            Here all the preprocessing\n",
    "        \"\"\"\n",
    "        print(\"Data Preprocesed\")\n",
    "        return processed_input\n",
    "  \n",
    "    def fit(self, X_train, y_train):\n",
    "        \"\"\"\n",
    "        Uses the same preprocessing logic to fit the model\n",
    "        \"\"\"\n",
    "        from sklearn.ensemble import RandomForestClassifier\n",
    "\n",
    "        processed_model_input = self.preprocess_input(X_train)\n",
    "        \n",
    "        rf_model = RandomForestClassifier(**self.params)\n",
    "        rf_model.fit(processed_model_input, y_train)\n",
    "\n",
    "        self.rf_model = rf_model\n",
    "    \n",
    "    def predict(self, context, model_input):\n",
    "        \"\"\"\n",
    "        This is the main entrance to the model in deployment systems\n",
    "        \"\"\"\n",
    "        processed_model_input = self.preprocess_input(model_input.copy())\n",
    "        return self.rf_model.predict(processed_model_input)\n"
   ]
  },
  {
   "cell_type": "markdown",
   "id": "ee1d354d",
   "metadata": {},
   "source": [
    "## 5. Guardar configuración del modelo como archivo JSON"
   ]
  },
  {
   "cell_type": "code",
   "execution_count": 10,
   "id": "44b4352f",
   "metadata": {},
   "outputs": [],
   "source": [
    "import json \n",
    "import os\n",
    "\n",
    "params = {\n",
    "    \"n_estimators\": 15, \n",
    "    \"max_depth\": 5\n",
    "}\n",
    "\n",
    "\n"
   ]
  },
  {
   "cell_type": "markdown",
   "id": "d5657c71",
   "metadata": {},
   "source": [
    "## 6. Instanciar, cargar configuración y entrenar el modelo"
   ]
  },
  {
   "cell_type": "code",
   "execution_count": 11,
   "id": "dfead2f1",
   "metadata": {},
   "outputs": [
    {
     "name": "stdout",
     "output_type": "stream",
     "text": [
      "Data Preprocesed\n"
     ]
    }
   ],
   "source": [
    "model = RFWithPreprocess(params)\n",
    "\n",
    "model.fit(X_train, y_train)"
   ]
  },
  {
   "cell_type": "markdown",
   "id": "155ffc3e",
   "metadata": {},
   "source": [
    "\n",
    "## 7. Realizar predicciones"
   ]
  },
  {
   "cell_type": "code",
   "execution_count": 12,
   "id": "e0b5a262",
   "metadata": {},
   "outputs": [
    {
     "name": "stdout",
     "output_type": "stream",
     "text": [
      "Data Preprocesed\n"
     ]
    },
    {
     "data": {
      "text/plain": [
       "array([0, 0, 0, ..., 0, 0, 0], shape=(1625,))"
      ]
     },
     "execution_count": 12,
     "metadata": {},
     "output_type": "execute_result"
    }
   ],
   "source": [
    "predictions = model.predict(context=None, model_input=X_test)\n",
    "predictions"
   ]
  },
  {
   "cell_type": "markdown",
   "id": "9d22d8d0",
   "metadata": {},
   "source": [
    "## 8. Inferir firma del modelo\n",
    "Esto ayuda a MLflow a entender la estructura de entrada y salida del modelo."
   ]
  },
  {
   "cell_type": "code",
   "execution_count": 13,
   "id": "e795b494",
   "metadata": {},
   "outputs": [
    {
     "name": "stderr",
     "output_type": "stream",
     "text": [
      "c:\\Users\\alopezmoreno\\OneDrive - Microsoft\\Desktop\\MLOps-UTP\\mlops-course\\.venv\\Lib\\site-packages\\mlflow\\types\\utils.py:452: UserWarning: Hint: Inferred schema contains integer column(s). Integer columns in Python cannot represent missing values. If your input data contains missing values at inference time, it will be encoded as floats and will cause a schema enforcement error. The best way to avoid this problem is to infer the model schema based on a realistic data sample (training dataset) that includes missing values. Alternatively, you can declare integer columns as doubles (float64) whenever these columns may have missing values. See `Handling Integers With Missing Values <https://www.mlflow.org/docs/latest/models.html#handling-integers-with-missing-values>`_ for more details.\n",
      "  warnings.warn(\n"
     ]
    }
   ],
   "source": [
    "firma = infer_signature(X_test, predictions)"
   ]
  },
  {
   "cell_type": "markdown",
   "id": "357c4bcb",
   "metadata": {},
   "source": [
    "## 10. Guardar el modelo en MLflow"
   ]
  },
  {
   "cell_type": "code",
   "execution_count": 14,
   "id": "eca1e8a3",
   "metadata": {},
   "outputs": [
    {
     "name": "stderr",
     "output_type": "stream",
     "text": [
      "2025/08/14 09:34:46 INFO mlflow.pyfunc: Validating input example against model signature\n",
      "2025/08/14 09:35:02 WARNING mlflow.utils.environment: Failed to resolve installed pip version. ``pip`` will be added to conda.yaml environment spec without a version specifier.\n"
     ]
    },
    {
     "name": "stdout",
     "output_type": "stream",
     "text": [
      "Data Preprocesed\n",
      "SUCCESS! Model logged with run_id: bd32bc4d414d402a89397225ab0be4b8\n",
      "🏃 View run rebellious-yak-694 at: http://localhost:5000/#/experiments/112621643149097054/runs/bd32bc4d414d402a89397225ab0be4b8\n",
      "🧪 View experiment at: http://localhost:5000/#/experiments/112621643149097054\n"
     ]
    }
   ],
   "source": [
    "with mlflow.start_run() as run:\n",
    "    mlflow.pyfunc.log_model(\n",
    "        name=\"modelo_rf_con_preprocesamiento\",\n",
    "        python_model=model,\n",
    "        signature=firma,\n",
    "        input_example=X_test[:3]\n",
    "    )\n",
    "    run_id = run.info.run_id\n",
    "    print(f\"SUCCESS! Model logged with run_id: {run_id}\")"
   ]
  },
  {
   "cell_type": "markdown",
   "id": "b0352d40",
   "metadata": {},
   "source": [
    "## 11. Cargar el modelo desde MLflow y hacer predicciones"
   ]
  },
  {
   "cell_type": "code",
   "execution_count": 15,
   "id": "36241d49",
   "metadata": {},
   "outputs": [],
   "source": [
    "ruta_modelo = f\"runs:/{run_id}/modelo_rf_con_preprocesamiento\"\n",
    "modelo_cargado = mlflow.pyfunc.load_model(ruta_modelo)"
   ]
  },
  {
   "cell_type": "code",
   "execution_count": 16,
   "id": "e16b211d",
   "metadata": {},
   "outputs": [
    {
     "name": "stdout",
     "output_type": "stream",
     "text": [
      "Data Preprocesed\n"
     ]
    },
    {
     "data": {
      "text/plain": [
       "array([0, 0, 0, 0, 0, 0, 1, 0, 0, 0])"
      ]
     },
     "execution_count": 16,
     "metadata": {},
     "output_type": "execute_result"
    }
   ],
   "source": [
    "resultado = modelo_cargado.predict(X_test)\n",
    "resultado[:10]"
   ]
  }
 ],
 "metadata": {
  "kernelspec": {
   "display_name": "mlops-course",
   "language": "python",
   "name": "python3"
  },
  "language_info": {
   "codemirror_mode": {
    "name": "ipython",
    "version": 3
   },
   "file_extension": ".py",
   "mimetype": "text/x-python",
   "name": "python",
   "nbconvert_exporter": "python",
   "pygments_lexer": "ipython3",
   "version": "3.11.9"
  }
 },
 "nbformat": 4,
 "nbformat_minor": 5
}
