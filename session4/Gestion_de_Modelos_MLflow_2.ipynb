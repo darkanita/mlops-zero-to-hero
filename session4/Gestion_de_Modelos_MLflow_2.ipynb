{
 "cells": [
  {
   "cell_type": "markdown",
   "id": "b74474ab",
   "metadata": {},
   "source": [
    "\n",
    "# Model Registry (Registro de Modelos) con MLflow\n",
    "\n",
    "El Registro de Modelos de MLflow (MLflow Model Registry) es un centro colaborativo donde los equipos pueden compartir modelos de Machine Learning, trabajar juntos desde la experimentación hasta las pruebas y la producción, integrarse con flujos de trabajo de aprobación y gobernanza, y monitorear los despliegues de ML y su rendimiento.\n",
    "\n",
    "Esta lección explora cómo gestionar modelos utilizando el registro de modelos de MLflow en un entorno open-source.\n",
    "\n",
    "## En esta lección:\n",
    "  - Registrarás un modelo usando MLflow.\n",
    "  - Desplegarás ese modelo a un entorno simulado de \"Producción\".\n",
    "  - Actualizarás un modelo en \"Producción\" a una nueva versión, incluyendo una fase de \"Staging\" (pruebas).\n",
    "  - Archivarás y eliminarás modelos."
   ]
  },
  {
   "cell_type": "markdown",
   "id": "f8b16499",
   "metadata": {},
   "source": [
    "### El Registro de Modelos\n",
    "\n",
    "El componente de Registro de Modelos de MLflow es un almacén centralizado de modelos, un conjunto de APIs y una interfaz de usuario para gestionar de forma colaborativa el ciclo de vida completo de un modelo de MLflow. Proporciona linaje del modelo (qué experimento y ejecución de MLflow produjo el modelo), versionado, transiciones de fase (por ejemplo, de `Staging` a `Production`), anotaciones (como comentarios y etiquetas) y gestión de despliegues.\n",
    "\n",
    "El registro de modelos tiene las siguientes características:\n",
    "* **Repositorio Central:** Registra modelos de MLflow. Un modelo registrado tiene un nombre único, versión, fase y otros metadatos.\n",
    "* **Versionado de Modelos:** Rastrea automáticamente las versiones de los modelos registrados cuando se actualizan.\n",
    "* **Fase del Modelo:** Asigna fases predefinidas o personalizadas a cada versión del modelo, como `Staging` y `Production`, para representar el ciclo de vida del modelo.\n",
    "* **Transiciones de Fase del Modelo:** Registra nuevos eventos o cambios como actividades que registran automáticamente usuarios, cambios y metadatos adicionales como comentarios.\n",
    "* **Integración con Flujos de CI/CD:** Utiliza las transiciones de fase para solicitar, revisar y aprobar cambios como parte de los pipelines de CI/CD para un mejor control y gobernanza.\n",
    "\n"
   ]
  },
  {
   "cell_type": "markdown",
   "id": "3f206164",
   "metadata": {},
   "source": [
    "### Configuración Inicial: Conexión con el Servidor MLflow\n",
    "Antes de empezar, necesitamos indicarle a nuestro script dónde se encuentra el servidor de MLflow que iniciaste previamente.\n"
   ]
  },
  {
   "cell_type": "code",
   "execution_count": 3,
   "id": "171fef22",
   "metadata": {},
   "outputs": [],
   "source": [
    "import mlflow\n",
    "import mlflow.sklearn\n",
    "import pandas as pd\n",
    "from sklearn.ensemble import RandomForestClassifier\n",
    "from sklearn.metrics import roc_auc_score\n",
    "from sklearn.model_selection import train_test_split\n",
    "from mlflow.models.signature import infer_signature\n",
    "from mlflow.tracking.client import MlflowClient\n",
    "import time"
   ]
  },
  {
   "cell_type": "code",
   "execution_count": 4,
   "id": "0449f403",
   "metadata": {},
   "outputs": [
    {
     "name": "stdout",
     "output_type": "stream",
     "text": [
      "MLflow Version: 3.2.0\n"
     ]
    }
   ],
   "source": [
    "# Establece la URI del servidor de tracking de MLflow\n",
    "# Asegúrate de que coincida con la URL donde iniciaste 'mlflow ui'\n",
    "mlflow.set_tracking_uri(\"http://127.0.0.1:5000\")\n",
    "\n",
    "print(f\"MLflow Version: {mlflow.__version__}\")"
   ]
  },
  {
   "cell_type": "markdown",
   "id": "210c39d3",
   "metadata": {},
   "source": [
    "### Registrar un Modelo\n",
    "\n",
    "El siguiente flujo de trabajo se puede realizar tanto desde la interfaz de usuario como puramente con Python. Este notebook usará únicamente Python.\n",
    "\n",
    "Primero, entrenaremos un modelo y lo registraremos en MLflow.\n"
   ]
  },
  {
   "cell_type": "code",
   "execution_count": 5,
   "id": "548330b7",
   "metadata": {},
   "outputs": [],
   "source": [
    "# Cargar datos directamente desde su fuente original (UCI Machine Learning Repository)\n",
    "white_wine = pd.read_csv(\"winequality-white.csv\", sep=\";\")\n",
    "red_wine = pd.read_csv(\"winequality-red.csv\", sep=\";\")\n",
    "\n",
    "# Añadir una columna para identificar el tipo de vino\n",
    "red_wine['is_red'] = 1\n",
    "white_wine['is_red'] = 0\n",
    "\n",
    "data = pd.concat([red_wine, white_wine], axis=0)"
   ]
  },
  {
   "cell_type": "code",
   "execution_count": 6,
   "id": "5497d4bf",
   "metadata": {},
   "outputs": [],
   "source": [
    "# Reemplazar espacios en los nombres de las columnas por guiones bajos\n",
    "data.rename(columns=lambda x: x.replace(' ', '_'), inplace=True)\n",
    "\n",
    "# Convertir el problema a clasificación binaria (calidad alta >= 7)\n",
    "high_quality = (data.quality >= 7).astype(int)\n",
    "data['quality'] = high_quality"
   ]
  },
  {
   "cell_type": "code",
   "execution_count": 7,
   "id": "36d809a9",
   "metadata": {},
   "outputs": [
    {
     "name": "stderr",
     "output_type": "stream",
     "text": [
      "c:\\Users\\alopezmoreno\\OneDrive - Microsoft\\Desktop\\MLOps-UTP\\mlops-course\\.venv\\Lib\\site-packages\\mlflow\\types\\utils.py:452: UserWarning: Hint: Inferred schema contains integer column(s). Integer columns in Python cannot represent missing values. If your input data contains missing values at inference time, it will be encoded as floats and will cause a schema enforcement error. The best way to avoid this problem is to infer the model schema based on a realistic data sample (training dataset) that includes missing values. Alternatively, you can declare integer columns as doubles (float64) whenever these columns may have missing values. See `Handling Integers With Missing Values <https://www.mlflow.org/docs/latest/models.html#handling-integers-with-missing-values>`_ for more details.\n",
      "  warnings.warn(\n"
     ]
    }
   ],
   "source": [
    "# Separar datos de entrenamiento y prueba\n",
    "train, test = train_test_split(data, random_state=123)\n",
    "X_train = train.drop([\"quality\"], axis=1)\n",
    "X_test = test.drop([\"quality\"], axis=1)\n",
    "y_train = train.quality\n",
    "y_test = test.quality\n",
    "\n",
    "# Parámetros del modelo\n",
    "n_estimators = 100\n",
    "max_depth = 5\n",
    "\n",
    "# Entrenar el modelo\n",
    "rf = RandomForestClassifier(n_estimators=n_estimators, max_depth=max_depth)\n",
    "rf.fit(X_train, y_train)\n",
    "\n",
    "# Inferir la firma del modelo y crear un ejemplo de entrada\n",
    "input_example = X_train.head(3)\n",
    "signature = infer_signature(X_train, pd.DataFrame(y_train))"
   ]
  },
  {
   "cell_type": "code",
   "execution_count": 8,
   "id": "53e30b3d",
   "metadata": {},
   "outputs": [
    {
     "name": "stderr",
     "output_type": "stream",
     "text": [
      "2025/08/14 12:35:28 WARNING mlflow.models.model: `artifact_path` is deprecated. Please use `name` instead.\n",
      "2025/08/14 12:35:38 WARNING mlflow.utils.environment: Failed to resolve installed pip version. ``pip`` will be added to conda.yaml environment spec without a version specifier.\n"
     ]
    },
    {
     "name": "stdout",
     "output_type": "stream",
     "text": [
      "Modelo guardado en la ejecución: 90562d3047394b4ebbb65fe0aa2845ab\n",
      "🏃 View run Modelo RF - v1 at: http://127.0.0.1:5000/#/experiments/112621643149097054/runs/90562d3047394b4ebbb65fe0aa2845ab\n",
      "🧪 View experiment at: http://127.0.0.1:5000/#/experiments/112621643149097054\n"
     ]
    }
   ],
   "source": [
    "# Iniciar una ejecución de MLflow y registrar el modelo\n",
    "with mlflow.start_run(run_name=\"Modelo RF - v1\") as run:\n",
    "    mlflow.sklearn.log_model(rf, \"modelo-rf\", input_example=input_example, signature=signature)\n",
    "    mlflow.log_metric(\"auc\", roc_auc_score(y_test, rf.predict(X_test)))\n",
    "    mlflow.log_param(\"n_estimators\", n_estimators)\n",
    "    mlflow.log_param(\"max_depth\", max_depth)\n",
    "    run_id = run.info.run_id\n",
    "    print(f\"Modelo guardado en la ejecución: {run_id}\")"
   ]
  },
  {
   "cell_type": "markdown",
   "id": "293fc5bc",
   "metadata": {},
   "source": [
    "Creamos un nombre de modelo único para no colisionar con otros modelos en el registro."
   ]
  },
  {
   "cell_type": "code",
   "execution_count": 9,
   "id": "c5dc38d6",
   "metadata": {},
   "outputs": [
    {
     "name": "stdout",
     "output_type": "stream",
     "text": [
      "Nombre del modelo: clasificador-vinos-rf_aml\n"
     ]
    }
   ],
   "source": [
    "# Usamos un sufijo para asegurar que el nombre del modelo es único\n",
    "suffix = \"aml\"\n",
    "model_name = f\"clasificador-vinos-rf_{suffix}\"\n",
    "print(f\"Nombre del modelo: {model_name}\")"
   ]
  },
  {
   "cell_type": "code",
   "execution_count": 10,
   "id": "a741e603",
   "metadata": {},
   "outputs": [
    {
     "name": "stderr",
     "output_type": "stream",
     "text": [
      "Successfully registered model 'clasificador-vinos-rf_aml'.\n",
      "2025/08/14 12:36:34 WARNING mlflow.tracking._model_registry.fluent: Run with id 90562d3047394b4ebbb65fe0aa2845ab has no artifacts at artifact path 'modelo-rf', registering model based on models:/m-740ac306c8954518b85002975e974548 instead\n",
      "2025/08/14 12:36:34 INFO mlflow.store.model_registry.abstract_store: Waiting up to 300 seconds for model version to finish creation. Model name: clasificador-vinos-rf_aml, version 1\n"
     ]
    },
    {
     "name": "stdout",
     "output_type": "stream",
     "text": [
      "Modelo 'clasificador-vinos-rf_aml' registrado. Versión: 1\n"
     ]
    },
    {
     "name": "stderr",
     "output_type": "stream",
     "text": [
      "Created version '1' of model 'clasificador-vinos-rf_aml'.\n"
     ]
    }
   ],
   "source": [
    "# Ahora, registramos el modelo que acabamos de entrenar en el Registro de Modelos.\n",
    "model_uri = f\"runs:/{run_id}/modelo-rf\"\n",
    "\n",
    "# Registramos el modelo y obtenemos sus detalles\n",
    "model_details = mlflow.register_model(model_uri=model_uri, name=model_name)\n",
    "\n",
    "print(f\"Modelo '{model_details.name}' registrado. Versión: {model_details.version}\")"
   ]
  },
  {
   "cell_type": "markdown",
   "id": "a1c1f09c",
   "metadata": {},
   "source": [
    "**Ahora puedes ir a tu navegador en `http://127.0.0.1:5000` y hacer clic en la pestaña \"Models\" para explorar el modelo registrado.**\n",
    "\n",
    "Verás lo siguiente:\n",
    "\n",
    "* Quién entrenó el modelo y el código fuente asociado.\n",
    "* Un historial de acciones realizadas sobre este modelo.\n",
    "* El modelo registrado como la \"Version 1\".\n",
    "\n",
    "### Actualizar Metadatos del Modelo\n",
    "\n",
    "Podemos añadir descripciones al modelo y a sus versiones para documentar su propósito.\n"
   ]
  },
  {
   "cell_type": "code",
   "execution_count": 11,
   "id": "54595eaf",
   "metadata": {},
   "outputs": [
    {
     "name": "stdout",
     "output_type": "stream",
     "text": [
      "Esperando 10 segundos para que el registro se complete...\n",
      "Estado inicial del modelo: READY\n"
     ]
    }
   ],
   "source": [
    "client = MlflowClient()\n",
    "\n",
    "# Esperamos un poco para asegurarnos de que el registro se ha completado\n",
    "print(\"Esperando 10 segundos para que el registro se complete...\")\n",
    "time.sleep(10)\n",
    "\n",
    "# Verificamos el estado del modelo\n",
    "model_version_details = client.get_model_version(name=model_name, version=1)\n",
    "print(f\"Estado inicial del modelo: {model_version_details.status}\")"
   ]
  },
  {
   "cell_type": "code",
   "execution_count": null,
   "id": "4bb96781",
   "metadata": {},
   "outputs": [],
   "source": [
    "# Añadimos una descripción general al modelo registrado\n",
    "client.update_registered_model(\n",
    "    name=model_details.name,\n",
    "    description=\"Este modelo clasifica la calidad del vino (alta/baja) basándose en datos fisicoquímicos.\"\n",
    ")\n",
    "\n",
    "# Añadimos una descripción específica a esta versión\n",
    "client.update_model_version(\n",
    "    name=model_details.name,\n",
    "    version=model_details.version,\n",
    "    description=\"Versión inicial construida con un RandomForest de 100 árboles y profundidad 5.\"\n",
    ")\n",
    "print(\"Descripciones del modelo y de la versión actualizadas.\")"
   ]
  },
  {
   "cell_type": "markdown",
   "id": "9293e29e",
   "metadata": {},
   "source": [
    "### Desplegar un Modelo\n",
    "\n",
    "El Registro de Modelos de MLflow define varias fases (`stage`): `None`, `Staging`, `Production` y `Archived`. Cada fase tiene un significado. Por ejemplo, `Staging` es para pruebas, mientras que `Production` es para modelos que han completado las pruebas y han sido desplegados.\n",
    "\n",
    "Ahora, haremos la transición del modelo a la fase de **`Production`**."
   ]
  },
  {
   "cell_type": "code",
   "execution_count": null,
   "id": "9b3cf3da",
   "metadata": {},
   "outputs": [
    {
     "name": "stderr",
     "output_type": "stream",
     "text": [
      "C:\\Users\\alopezmoreno\\AppData\\Local\\Temp\\ipykernel_18992\\1217307799.py:1: FutureWarning: ``mlflow.tracking.client.MlflowClient.transition_model_version_stage`` is deprecated since 2.9.0. Model registry stages will be removed in a future major release. To learn more about the deprecation of model registry stages, see our migration guide here: https://mlflow.org/docs/latest/model-registry.html#migrating-from-stages\n",
      "  client.transition_model_version_stage(\n"
     ]
    },
    {
     "ename": "KeyboardInterrupt",
     "evalue": "",
     "output_type": "error",
     "traceback": [
      "\u001b[31m---------------------------------------------------------------------------\u001b[39m",
      "\u001b[31mKeyboardInterrupt\u001b[39m                         Traceback (most recent call last)",
      "\u001b[36mCell\u001b[39m\u001b[36m \u001b[39m\u001b[32mIn[12]\u001b[39m\u001b[32m, line 1\u001b[39m\n\u001b[32m----> \u001b[39m\u001b[32m1\u001b[39m \u001b[43mclient\u001b[49m\u001b[43m.\u001b[49m\u001b[43mtransition_model_version_stage\u001b[49m\u001b[43m(\u001b[49m\n\u001b[32m      2\u001b[39m \u001b[43m    \u001b[49m\u001b[43mname\u001b[49m\u001b[43m=\u001b[49m\u001b[43mmodel_details\u001b[49m\u001b[43m.\u001b[49m\u001b[43mname\u001b[49m\u001b[43m,\u001b[49m\n\u001b[32m      3\u001b[39m \u001b[43m    \u001b[49m\u001b[43mversion\u001b[49m\u001b[43m=\u001b[49m\u001b[43mmodel_details\u001b[49m\u001b[43m.\u001b[49m\u001b[43mversion\u001b[49m\u001b[43m,\u001b[49m\n\u001b[32m      4\u001b[39m \u001b[43m    \u001b[49m\u001b[43mstage\u001b[49m\u001b[43m=\u001b[49m\u001b[33;43m\"\u001b[39;49m\u001b[33;43mProduction\u001b[39;49m\u001b[33;43m\"\u001b[39;49m\n\u001b[32m      5\u001b[39m \u001b[43m)\u001b[49m\n\u001b[32m      6\u001b[39m \u001b[38;5;28mprint\u001b[39m(\u001b[33mf\u001b[39m\u001b[33m\"\u001b[39m\u001b[33mModelo versión \u001b[39m\u001b[38;5;132;01m{\u001b[39;00mmodel_details.version\u001b[38;5;132;01m}\u001b[39;00m\u001b[33m transicionado a \u001b[39m\u001b[33m'\u001b[39m\u001b[33mProduction\u001b[39m\u001b[33m'\u001b[39m\u001b[33m.\u001b[39m\u001b[33m\"\u001b[39m)\n",
      "\u001b[36mFile \u001b[39m\u001b[32mc:\\Users\\alopezmoreno\\OneDrive - Microsoft\\Desktop\\MLOps-UTP\\mlops-course\\.venv\\Lib\\site-packages\\mlflow\\utils\\annotations.py:188\u001b[39m, in \u001b[36mdeprecated.<locals>.deprecated_decorator.<locals>.deprecated_func\u001b[39m\u001b[34m(*args, **kwargs)\u001b[39m\n\u001b[32m    185\u001b[39m \u001b[38;5;129m@wraps\u001b[39m(obj)\n\u001b[32m    186\u001b[39m \u001b[38;5;28;01mdef\u001b[39;00m\u001b[38;5;250m \u001b[39m\u001b[34mdeprecated_func\u001b[39m(*args, **kwargs):\n\u001b[32m    187\u001b[39m     warnings.warn(notice, category=\u001b[38;5;167;01mFutureWarning\u001b[39;00m, stacklevel=\u001b[32m2\u001b[39m)\n\u001b[32m--> \u001b[39m\u001b[32m188\u001b[39m     \u001b[38;5;28;01mreturn\u001b[39;00m \u001b[43mobj\u001b[49m\u001b[43m(\u001b[49m\u001b[43m*\u001b[49m\u001b[43margs\u001b[49m\u001b[43m,\u001b[49m\u001b[43m \u001b[49m\u001b[43m*\u001b[49m\u001b[43m*\u001b[49m\u001b[43mkwargs\u001b[49m\u001b[43m)\u001b[49m\n",
      "\u001b[36mFile \u001b[39m\u001b[32mc:\\Users\\alopezmoreno\\OneDrive - Microsoft\\Desktop\\MLOps-UTP\\mlops-course\\.venv\\Lib\\site-packages\\mlflow\\tracking\\client.py:4528\u001b[39m, in \u001b[36mMlflowClient.transition_model_version_stage\u001b[39m\u001b[34m(self, name, version, stage, archive_existing_versions)\u001b[39m\n\u001b[32m   4456\u001b[39m \u001b[38;5;250m\u001b[39m\u001b[33;03m\"\"\"\u001b[39;00m\n\u001b[32m   4457\u001b[39m \u001b[33;03mUpdate model version stage.\u001b[39;00m\n\u001b[32m   4458\u001b[39m \n\u001b[32m   (...)\u001b[39m\u001b[32m   4525\u001b[39m \u001b[33;03m    Stage: Staging\u001b[39;00m\n\u001b[32m   4526\u001b[39m \u001b[33;03m\"\"\"\u001b[39;00m\n\u001b[32m   4527\u001b[39m \u001b[38;5;28mself\u001b[39m._raise_if_prompt(name)\n\u001b[32m-> \u001b[39m\u001b[32m4528\u001b[39m \u001b[38;5;28;01mreturn\u001b[39;00m \u001b[38;5;28;43mself\u001b[39;49m\u001b[43m.\u001b[49m\u001b[43m_get_registry_client\u001b[49m\u001b[43m(\u001b[49m\u001b[43m)\u001b[49m\u001b[43m.\u001b[49m\u001b[43mtransition_model_version_stage\u001b[49m\u001b[43m(\u001b[49m\n\u001b[32m   4529\u001b[39m \u001b[43m    \u001b[49m\u001b[43mname\u001b[49m\u001b[43m,\u001b[49m\u001b[43m \u001b[49m\u001b[43mversion\u001b[49m\u001b[43m,\u001b[49m\u001b[43m \u001b[49m\u001b[43mstage\u001b[49m\u001b[43m,\u001b[49m\u001b[43m \u001b[49m\u001b[43marchive_existing_versions\u001b[49m\n\u001b[32m   4530\u001b[39m \u001b[43m\u001b[49m\u001b[43m)\u001b[49m\n",
      "\u001b[36mFile \u001b[39m\u001b[32mc:\\Users\\alopezmoreno\\OneDrive - Microsoft\\Desktop\\MLOps-UTP\\mlops-course\\.venv\\Lib\\site-packages\\mlflow\\tracking\\_model_registry\\client.py:323\u001b[39m, in \u001b[36mModelRegistryClient.transition_model_version_stage\u001b[39m\u001b[34m(self, name, version, stage, archive_existing_versions)\u001b[39m\n\u001b[32m    321\u001b[39m \u001b[38;5;28;01mif\u001b[39;00m stage.strip() == \u001b[33m\"\u001b[39m\u001b[33m\"\u001b[39m:\n\u001b[32m    322\u001b[39m     \u001b[38;5;28;01mraise\u001b[39;00m MlflowException(\u001b[33m\"\u001b[39m\u001b[33mThe stage must not be an empty string.\u001b[39m\u001b[33m\"\u001b[39m)\n\u001b[32m--> \u001b[39m\u001b[32m323\u001b[39m \u001b[38;5;28;01mreturn\u001b[39;00m \u001b[38;5;28;43mself\u001b[39;49m\u001b[43m.\u001b[49m\u001b[43mstore\u001b[49m\u001b[43m.\u001b[49m\u001b[43mtransition_model_version_stage\u001b[49m\u001b[43m(\u001b[49m\n\u001b[32m    324\u001b[39m \u001b[43m    \u001b[49m\u001b[43mname\u001b[49m\u001b[43m=\u001b[49m\u001b[43mname\u001b[49m\u001b[43m,\u001b[49m\n\u001b[32m    325\u001b[39m \u001b[43m    \u001b[49m\u001b[43mversion\u001b[49m\u001b[43m=\u001b[49m\u001b[43mversion\u001b[49m\u001b[43m,\u001b[49m\n\u001b[32m    326\u001b[39m \u001b[43m    \u001b[49m\u001b[43mstage\u001b[49m\u001b[43m=\u001b[49m\u001b[43mstage\u001b[49m\u001b[43m,\u001b[49m\n\u001b[32m    327\u001b[39m \u001b[43m    \u001b[49m\u001b[43marchive_existing_versions\u001b[49m\u001b[43m=\u001b[49m\u001b[43marchive_existing_versions\u001b[49m\u001b[43m,\u001b[49m\n\u001b[32m    328\u001b[39m \u001b[43m\u001b[49m\u001b[43m)\u001b[49m\n",
      "\u001b[36mFile \u001b[39m\u001b[32mc:\\Users\\alopezmoreno\\OneDrive - Microsoft\\Desktop\\MLOps-UTP\\mlops-course\\.venv\\Lib\\site-packages\\mlflow\\store\\model_registry\\rest_store.py:303\u001b[39m, in \u001b[36mRestStore.transition_model_version_stage\u001b[39m\u001b[34m(self, name, version, stage, archive_existing_versions)\u001b[39m\n\u001b[32m    279\u001b[39m \u001b[38;5;250m\u001b[39m\u001b[33;03m\"\"\"\u001b[39;00m\n\u001b[32m    280\u001b[39m \u001b[33;03mUpdate model version stage.\u001b[39;00m\n\u001b[32m    281\u001b[39m \n\u001b[32m   (...)\u001b[39m\u001b[32m    293\u001b[39m \n\u001b[32m    294\u001b[39m \u001b[33;03m\"\"\"\u001b[39;00m\n\u001b[32m    295\u001b[39m req_body = message_to_json(\n\u001b[32m    296\u001b[39m     TransitionModelVersionStage(\n\u001b[32m    297\u001b[39m         name=name,\n\u001b[32m   (...)\u001b[39m\u001b[32m    301\u001b[39m     )\n\u001b[32m    302\u001b[39m )\n\u001b[32m--> \u001b[39m\u001b[32m303\u001b[39m response_proto = \u001b[38;5;28;43mself\u001b[39;49m\u001b[43m.\u001b[49m\u001b[43m_call_endpoint\u001b[49m\u001b[43m(\u001b[49m\u001b[43mTransitionModelVersionStage\u001b[49m\u001b[43m,\u001b[49m\u001b[43m \u001b[49m\u001b[43mreq_body\u001b[49m\u001b[43m)\u001b[49m\n\u001b[32m    304\u001b[39m \u001b[38;5;28;01mreturn\u001b[39;00m ModelVersion.from_proto(response_proto.model_version)\n",
      "\u001b[36mFile \u001b[39m\u001b[32mc:\\Users\\alopezmoreno\\OneDrive - Microsoft\\Desktop\\MLOps-UTP\\mlops-course\\.venv\\Lib\\site-packages\\mlflow\\store\\model_registry\\base_rest_store.py:42\u001b[39m, in \u001b[36mBaseRestStore._call_endpoint\u001b[39m\u001b[34m(self, api, json_body, call_all_endpoints, extra_headers)\u001b[39m\n\u001b[32m     40\u001b[39m \u001b[38;5;28;01melse\u001b[39;00m:\n\u001b[32m     41\u001b[39m     endpoint, method = \u001b[38;5;28mself\u001b[39m._get_endpoint_from_method(api)\n\u001b[32m---> \u001b[39m\u001b[32m42\u001b[39m     \u001b[38;5;28;01mreturn\u001b[39;00m \u001b[43mcall_endpoint\u001b[49m\u001b[43m(\u001b[49m\n\u001b[32m     43\u001b[39m \u001b[43m        \u001b[49m\u001b[38;5;28;43mself\u001b[39;49m\u001b[43m.\u001b[49m\u001b[43mget_host_creds\u001b[49m\u001b[43m(\u001b[49m\u001b[43m)\u001b[49m\u001b[43m,\u001b[49m\u001b[43m \u001b[49m\u001b[43mendpoint\u001b[49m\u001b[43m,\u001b[49m\u001b[43m \u001b[49m\u001b[43mmethod\u001b[49m\u001b[43m,\u001b[49m\u001b[43m \u001b[49m\u001b[43mjson_body\u001b[49m\u001b[43m,\u001b[49m\u001b[43m \u001b[49m\u001b[43mresponse_proto\u001b[49m\u001b[43m,\u001b[49m\u001b[43m \u001b[49m\u001b[43mextra_headers\u001b[49m\n\u001b[32m     44\u001b[39m \u001b[43m    \u001b[49m\u001b[43m)\u001b[49m\n",
      "\u001b[36mFile \u001b[39m\u001b[32mc:\\Users\\alopezmoreno\\OneDrive - Microsoft\\Desktop\\MLOps-UTP\\mlops-course\\.venv\\Lib\\site-packages\\mlflow\\utils\\rest_utils.py:551\u001b[39m, in \u001b[36mcall_endpoint\u001b[39m\u001b[34m(host_creds, endpoint, method, json_body, response_proto, extra_headers, retry_timeout_seconds)\u001b[39m\n\u001b[32m    549\u001b[39m \u001b[38;5;28;01melse\u001b[39;00m:\n\u001b[32m    550\u001b[39m     call_kwargs[\u001b[33m\"\u001b[39m\u001b[33mjson\u001b[39m\u001b[33m\"\u001b[39m] = json_body\n\u001b[32m--> \u001b[39m\u001b[32m551\u001b[39m     response = \u001b[43mhttp_request\u001b[49m\u001b[43m(\u001b[49m\u001b[43m*\u001b[49m\u001b[43m*\u001b[49m\u001b[43mcall_kwargs\u001b[49m\u001b[43m)\u001b[49m\n\u001b[32m    553\u001b[39m response = verify_rest_response(response, endpoint)\n\u001b[32m    554\u001b[39m response_to_parse = response.text\n",
      "\u001b[36mFile \u001b[39m\u001b[32mc:\\Users\\alopezmoreno\\OneDrive - Microsoft\\Desktop\\MLOps-UTP\\mlops-course\\.venv\\Lib\\site-packages\\mlflow\\utils\\rest_utils.py:230\u001b[39m, in \u001b[36mhttp_request\u001b[39m\u001b[34m(host_creds, endpoint, method, max_retries, backoff_factor, backoff_jitter, extra_headers, retry_codes, timeout, raise_on_status, respect_retry_after_header, retry_timeout_seconds, **kwargs)\u001b[39m\n\u001b[32m    227\u001b[39m     kwargs[\u001b[33m\"\u001b[39m\u001b[33mauth\u001b[39m\u001b[33m\"\u001b[39m] = fetch_auth(host_creds.auth)\n\u001b[32m    229\u001b[39m \u001b[38;5;28;01mtry\u001b[39;00m:\n\u001b[32m--> \u001b[39m\u001b[32m230\u001b[39m     \u001b[38;5;28;01mreturn\u001b[39;00m \u001b[43m_get_http_response_with_retries\u001b[49m\u001b[43m(\u001b[49m\n\u001b[32m    231\u001b[39m \u001b[43m        \u001b[49m\u001b[43mmethod\u001b[49m\u001b[43m,\u001b[49m\n\u001b[32m    232\u001b[39m \u001b[43m        \u001b[49m\u001b[43murl\u001b[49m\u001b[43m,\u001b[49m\n\u001b[32m    233\u001b[39m \u001b[43m        \u001b[49m\u001b[43mmax_retries\u001b[49m\u001b[43m,\u001b[49m\n\u001b[32m    234\u001b[39m \u001b[43m        \u001b[49m\u001b[43mbackoff_factor\u001b[49m\u001b[43m,\u001b[49m\n\u001b[32m    235\u001b[39m \u001b[43m        \u001b[49m\u001b[43mbackoff_jitter\u001b[49m\u001b[43m,\u001b[49m\n\u001b[32m    236\u001b[39m \u001b[43m        \u001b[49m\u001b[43mretry_codes\u001b[49m\u001b[43m,\u001b[49m\n\u001b[32m    237\u001b[39m \u001b[43m        \u001b[49m\u001b[43mraise_on_status\u001b[49m\u001b[43m,\u001b[49m\n\u001b[32m    238\u001b[39m \u001b[43m        \u001b[49m\u001b[43mheaders\u001b[49m\u001b[43m=\u001b[49m\u001b[43mheaders\u001b[49m\u001b[43m,\u001b[49m\n\u001b[32m    239\u001b[39m \u001b[43m        \u001b[49m\u001b[43mverify\u001b[49m\u001b[43m=\u001b[49m\u001b[43mhost_creds\u001b[49m\u001b[43m.\u001b[49m\u001b[43mverify\u001b[49m\u001b[43m,\u001b[49m\n\u001b[32m    240\u001b[39m \u001b[43m        \u001b[49m\u001b[43mtimeout\u001b[49m\u001b[43m=\u001b[49m\u001b[43mtimeout\u001b[49m\u001b[43m,\u001b[49m\n\u001b[32m    241\u001b[39m \u001b[43m        \u001b[49m\u001b[43mrespect_retry_after_header\u001b[49m\u001b[43m=\u001b[49m\u001b[43mrespect_retry_after_header\u001b[49m\u001b[43m,\u001b[49m\n\u001b[32m    242\u001b[39m \u001b[43m        \u001b[49m\u001b[43m*\u001b[49m\u001b[43m*\u001b[49m\u001b[43mkwargs\u001b[49m\u001b[43m,\u001b[49m\n\u001b[32m    243\u001b[39m \u001b[43m    \u001b[49m\u001b[43m)\u001b[49m\n\u001b[32m    244\u001b[39m \u001b[38;5;28;01mexcept\u001b[39;00m requests.exceptions.Timeout \u001b[38;5;28;01mas\u001b[39;00m to:\n\u001b[32m    245\u001b[39m     \u001b[38;5;28;01mraise\u001b[39;00m MlflowException(\n\u001b[32m    246\u001b[39m         \u001b[33mf\u001b[39m\u001b[33m\"\u001b[39m\u001b[33mAPI request to \u001b[39m\u001b[38;5;132;01m{\u001b[39;00murl\u001b[38;5;132;01m}\u001b[39;00m\u001b[33m failed with timeout exception \u001b[39m\u001b[38;5;132;01m{\u001b[39;00mto\u001b[38;5;132;01m}\u001b[39;00m\u001b[33m.\u001b[39m\u001b[33m\"\u001b[39m\n\u001b[32m    247\u001b[39m         \u001b[33m\"\u001b[39m\u001b[33m To increase the timeout, set the environment variable \u001b[39m\u001b[33m\"\u001b[39m\n\u001b[32m    248\u001b[39m         \u001b[33mf\u001b[39m\u001b[33m\"\u001b[39m\u001b[38;5;132;01m{\u001b[39;00mMLFLOW_HTTP_REQUEST_TIMEOUT\u001b[38;5;132;01m!s}\u001b[39;00m\u001b[33m to a larger value.\u001b[39m\u001b[33m\"\u001b[39m\n\u001b[32m    249\u001b[39m     ) \u001b[38;5;28;01mfrom\u001b[39;00m\u001b[38;5;250m \u001b[39m\u001b[34;01mto\u001b[39;00m\n",
      "\u001b[36mFile \u001b[39m\u001b[32mc:\\Users\\alopezmoreno\\OneDrive - Microsoft\\Desktop\\MLOps-UTP\\mlops-course\\.venv\\Lib\\site-packages\\mlflow\\utils\\request_utils.py:237\u001b[39m, in \u001b[36m_get_http_response_with_retries\u001b[39m\u001b[34m(method, url, max_retries, backoff_factor, backoff_jitter, retry_codes, raise_on_status, allow_redirects, respect_retry_after_header, **kwargs)\u001b[39m\n\u001b[32m    234\u001b[39m env_value = os.getenv(\u001b[33m\"\u001b[39m\u001b[33mMLFLOW_ALLOW_HTTP_REDIRECTS\u001b[39m\u001b[33m\"\u001b[39m, \u001b[33m\"\u001b[39m\u001b[33mtrue\u001b[39m\u001b[33m\"\u001b[39m).lower() \u001b[38;5;129;01min\u001b[39;00m [\u001b[33m\"\u001b[39m\u001b[33mtrue\u001b[39m\u001b[33m\"\u001b[39m, \u001b[33m\"\u001b[39m\u001b[33m1\u001b[39m\u001b[33m\"\u001b[39m]\n\u001b[32m    235\u001b[39m allow_redirects = env_value \u001b[38;5;28;01mif\u001b[39;00m allow_redirects \u001b[38;5;129;01mis\u001b[39;00m \u001b[38;5;28;01mNone\u001b[39;00m \u001b[38;5;28;01melse\u001b[39;00m allow_redirects\n\u001b[32m--> \u001b[39m\u001b[32m237\u001b[39m \u001b[38;5;28;01mreturn\u001b[39;00m \u001b[43msession\u001b[49m\u001b[43m.\u001b[49m\u001b[43mrequest\u001b[49m\u001b[43m(\u001b[49m\u001b[43mmethod\u001b[49m\u001b[43m,\u001b[49m\u001b[43m \u001b[49m\u001b[43murl\u001b[49m\u001b[43m,\u001b[49m\u001b[43m \u001b[49m\u001b[43mallow_redirects\u001b[49m\u001b[43m=\u001b[49m\u001b[43mallow_redirects\u001b[49m\u001b[43m,\u001b[49m\u001b[43m \u001b[49m\u001b[43m*\u001b[49m\u001b[43m*\u001b[49m\u001b[43mkwargs\u001b[49m\u001b[43m)\u001b[49m\n",
      "\u001b[36mFile \u001b[39m\u001b[32mc:\\Users\\alopezmoreno\\OneDrive - Microsoft\\Desktop\\MLOps-UTP\\mlops-course\\.venv\\Lib\\site-packages\\requests\\sessions.py:589\u001b[39m, in \u001b[36mSession.request\u001b[39m\u001b[34m(self, method, url, params, data, headers, cookies, files, auth, timeout, allow_redirects, proxies, hooks, stream, verify, cert, json)\u001b[39m\n\u001b[32m    584\u001b[39m send_kwargs = {\n\u001b[32m    585\u001b[39m     \u001b[33m\"\u001b[39m\u001b[33mtimeout\u001b[39m\u001b[33m\"\u001b[39m: timeout,\n\u001b[32m    586\u001b[39m     \u001b[33m\"\u001b[39m\u001b[33mallow_redirects\u001b[39m\u001b[33m\"\u001b[39m: allow_redirects,\n\u001b[32m    587\u001b[39m }\n\u001b[32m    588\u001b[39m send_kwargs.update(settings)\n\u001b[32m--> \u001b[39m\u001b[32m589\u001b[39m resp = \u001b[38;5;28;43mself\u001b[39;49m\u001b[43m.\u001b[49m\u001b[43msend\u001b[49m\u001b[43m(\u001b[49m\u001b[43mprep\u001b[49m\u001b[43m,\u001b[49m\u001b[43m \u001b[49m\u001b[43m*\u001b[49m\u001b[43m*\u001b[49m\u001b[43msend_kwargs\u001b[49m\u001b[43m)\u001b[49m\n\u001b[32m    591\u001b[39m \u001b[38;5;28;01mreturn\u001b[39;00m resp\n",
      "\u001b[36mFile \u001b[39m\u001b[32mc:\\Users\\alopezmoreno\\OneDrive - Microsoft\\Desktop\\MLOps-UTP\\mlops-course\\.venv\\Lib\\site-packages\\requests\\sessions.py:703\u001b[39m, in \u001b[36mSession.send\u001b[39m\u001b[34m(self, request, **kwargs)\u001b[39m\n\u001b[32m    700\u001b[39m start = preferred_clock()\n\u001b[32m    702\u001b[39m \u001b[38;5;66;03m# Send the request\u001b[39;00m\n\u001b[32m--> \u001b[39m\u001b[32m703\u001b[39m r = \u001b[43madapter\u001b[49m\u001b[43m.\u001b[49m\u001b[43msend\u001b[49m\u001b[43m(\u001b[49m\u001b[43mrequest\u001b[49m\u001b[43m,\u001b[49m\u001b[43m \u001b[49m\u001b[43m*\u001b[49m\u001b[43m*\u001b[49m\u001b[43mkwargs\u001b[49m\u001b[43m)\u001b[49m\n\u001b[32m    705\u001b[39m \u001b[38;5;66;03m# Total elapsed time of the request (approximately)\u001b[39;00m\n\u001b[32m    706\u001b[39m elapsed = preferred_clock() - start\n",
      "\u001b[36mFile \u001b[39m\u001b[32mc:\\Users\\alopezmoreno\\OneDrive - Microsoft\\Desktop\\MLOps-UTP\\mlops-course\\.venv\\Lib\\site-packages\\requests\\adapters.py:667\u001b[39m, in \u001b[36mHTTPAdapter.send\u001b[39m\u001b[34m(self, request, stream, timeout, verify, cert, proxies)\u001b[39m\n\u001b[32m    664\u001b[39m     timeout = TimeoutSauce(connect=timeout, read=timeout)\n\u001b[32m    666\u001b[39m \u001b[38;5;28;01mtry\u001b[39;00m:\n\u001b[32m--> \u001b[39m\u001b[32m667\u001b[39m     resp = \u001b[43mconn\u001b[49m\u001b[43m.\u001b[49m\u001b[43murlopen\u001b[49m\u001b[43m(\u001b[49m\n\u001b[32m    668\u001b[39m \u001b[43m        \u001b[49m\u001b[43mmethod\u001b[49m\u001b[43m=\u001b[49m\u001b[43mrequest\u001b[49m\u001b[43m.\u001b[49m\u001b[43mmethod\u001b[49m\u001b[43m,\u001b[49m\n\u001b[32m    669\u001b[39m \u001b[43m        \u001b[49m\u001b[43murl\u001b[49m\u001b[43m=\u001b[49m\u001b[43murl\u001b[49m\u001b[43m,\u001b[49m\n\u001b[32m    670\u001b[39m \u001b[43m        \u001b[49m\u001b[43mbody\u001b[49m\u001b[43m=\u001b[49m\u001b[43mrequest\u001b[49m\u001b[43m.\u001b[49m\u001b[43mbody\u001b[49m\u001b[43m,\u001b[49m\n\u001b[32m    671\u001b[39m \u001b[43m        \u001b[49m\u001b[43mheaders\u001b[49m\u001b[43m=\u001b[49m\u001b[43mrequest\u001b[49m\u001b[43m.\u001b[49m\u001b[43mheaders\u001b[49m\u001b[43m,\u001b[49m\n\u001b[32m    672\u001b[39m \u001b[43m        \u001b[49m\u001b[43mredirect\u001b[49m\u001b[43m=\u001b[49m\u001b[38;5;28;43;01mFalse\u001b[39;49;00m\u001b[43m,\u001b[49m\n\u001b[32m    673\u001b[39m \u001b[43m        \u001b[49m\u001b[43massert_same_host\u001b[49m\u001b[43m=\u001b[49m\u001b[38;5;28;43;01mFalse\u001b[39;49;00m\u001b[43m,\u001b[49m\n\u001b[32m    674\u001b[39m \u001b[43m        \u001b[49m\u001b[43mpreload_content\u001b[49m\u001b[43m=\u001b[49m\u001b[38;5;28;43;01mFalse\u001b[39;49;00m\u001b[43m,\u001b[49m\n\u001b[32m    675\u001b[39m \u001b[43m        \u001b[49m\u001b[43mdecode_content\u001b[49m\u001b[43m=\u001b[49m\u001b[38;5;28;43;01mFalse\u001b[39;49;00m\u001b[43m,\u001b[49m\n\u001b[32m    676\u001b[39m \u001b[43m        \u001b[49m\u001b[43mretries\u001b[49m\u001b[43m=\u001b[49m\u001b[38;5;28;43mself\u001b[39;49m\u001b[43m.\u001b[49m\u001b[43mmax_retries\u001b[49m\u001b[43m,\u001b[49m\n\u001b[32m    677\u001b[39m \u001b[43m        \u001b[49m\u001b[43mtimeout\u001b[49m\u001b[43m=\u001b[49m\u001b[43mtimeout\u001b[49m\u001b[43m,\u001b[49m\n\u001b[32m    678\u001b[39m \u001b[43m        \u001b[49m\u001b[43mchunked\u001b[49m\u001b[43m=\u001b[49m\u001b[43mchunked\u001b[49m\u001b[43m,\u001b[49m\n\u001b[32m    679\u001b[39m \u001b[43m    \u001b[49m\u001b[43m)\u001b[49m\n\u001b[32m    681\u001b[39m \u001b[38;5;28;01mexcept\u001b[39;00m (ProtocolError, \u001b[38;5;167;01mOSError\u001b[39;00m) \u001b[38;5;28;01mas\u001b[39;00m err:\n\u001b[32m    682\u001b[39m     \u001b[38;5;28;01mraise\u001b[39;00m \u001b[38;5;167;01mConnectionError\u001b[39;00m(err, request=request)\n",
      "\u001b[36mFile \u001b[39m\u001b[32mc:\\Users\\alopezmoreno\\OneDrive - Microsoft\\Desktop\\MLOps-UTP\\mlops-course\\.venv\\Lib\\site-packages\\urllib3\\connectionpool.py:942\u001b[39m, in \u001b[36mHTTPConnectionPool.urlopen\u001b[39m\u001b[34m(self, method, url, body, headers, retries, redirect, assert_same_host, timeout, pool_timeout, release_conn, chunked, body_pos, preload_content, decode_content, **response_kw)\u001b[39m\n\u001b[32m    940\u001b[39m     retries.sleep(response)\n\u001b[32m    941\u001b[39m     log.debug(\u001b[33m\"\u001b[39m\u001b[33mRetry: \u001b[39m\u001b[38;5;132;01m%s\u001b[39;00m\u001b[33m\"\u001b[39m, url)\n\u001b[32m--> \u001b[39m\u001b[32m942\u001b[39m     \u001b[38;5;28;01mreturn\u001b[39;00m \u001b[38;5;28;43mself\u001b[39;49m\u001b[43m.\u001b[49m\u001b[43murlopen\u001b[49m\u001b[43m(\u001b[49m\n\u001b[32m    943\u001b[39m \u001b[43m        \u001b[49m\u001b[43mmethod\u001b[49m\u001b[43m,\u001b[49m\n\u001b[32m    944\u001b[39m \u001b[43m        \u001b[49m\u001b[43murl\u001b[49m\u001b[43m,\u001b[49m\n\u001b[32m    945\u001b[39m \u001b[43m        \u001b[49m\u001b[43mbody\u001b[49m\u001b[43m,\u001b[49m\n\u001b[32m    946\u001b[39m \u001b[43m        \u001b[49m\u001b[43mheaders\u001b[49m\u001b[43m,\u001b[49m\n\u001b[32m    947\u001b[39m \u001b[43m        \u001b[49m\u001b[43mretries\u001b[49m\u001b[43m=\u001b[49m\u001b[43mretries\u001b[49m\u001b[43m,\u001b[49m\n\u001b[32m    948\u001b[39m \u001b[43m        \u001b[49m\u001b[43mredirect\u001b[49m\u001b[43m=\u001b[49m\u001b[43mredirect\u001b[49m\u001b[43m,\u001b[49m\n\u001b[32m    949\u001b[39m \u001b[43m        \u001b[49m\u001b[43massert_same_host\u001b[49m\u001b[43m=\u001b[49m\u001b[43massert_same_host\u001b[49m\u001b[43m,\u001b[49m\n\u001b[32m    950\u001b[39m \u001b[43m        \u001b[49m\u001b[43mtimeout\u001b[49m\u001b[43m=\u001b[49m\u001b[43mtimeout\u001b[49m\u001b[43m,\u001b[49m\n\u001b[32m    951\u001b[39m \u001b[43m        \u001b[49m\u001b[43mpool_timeout\u001b[49m\u001b[43m=\u001b[49m\u001b[43mpool_timeout\u001b[49m\u001b[43m,\u001b[49m\n\u001b[32m    952\u001b[39m \u001b[43m        \u001b[49m\u001b[43mrelease_conn\u001b[49m\u001b[43m=\u001b[49m\u001b[43mrelease_conn\u001b[49m\u001b[43m,\u001b[49m\n\u001b[32m    953\u001b[39m \u001b[43m        \u001b[49m\u001b[43mchunked\u001b[49m\u001b[43m=\u001b[49m\u001b[43mchunked\u001b[49m\u001b[43m,\u001b[49m\n\u001b[32m    954\u001b[39m \u001b[43m        \u001b[49m\u001b[43mbody_pos\u001b[49m\u001b[43m=\u001b[49m\u001b[43mbody_pos\u001b[49m\u001b[43m,\u001b[49m\n\u001b[32m    955\u001b[39m \u001b[43m        \u001b[49m\u001b[43mpreload_content\u001b[49m\u001b[43m=\u001b[49m\u001b[43mpreload_content\u001b[49m\u001b[43m,\u001b[49m\n\u001b[32m    956\u001b[39m \u001b[43m        \u001b[49m\u001b[43mdecode_content\u001b[49m\u001b[43m=\u001b[49m\u001b[43mdecode_content\u001b[49m\u001b[43m,\u001b[49m\n\u001b[32m    957\u001b[39m \u001b[43m        \u001b[49m\u001b[43m*\u001b[49m\u001b[43m*\u001b[49m\u001b[43mresponse_kw\u001b[49m\u001b[43m,\u001b[49m\n\u001b[32m    958\u001b[39m \u001b[43m    \u001b[49m\u001b[43m)\u001b[49m\n\u001b[32m    960\u001b[39m \u001b[38;5;28;01mreturn\u001b[39;00m response\n",
      "\u001b[36mFile \u001b[39m\u001b[32mc:\\Users\\alopezmoreno\\OneDrive - Microsoft\\Desktop\\MLOps-UTP\\mlops-course\\.venv\\Lib\\site-packages\\urllib3\\connectionpool.py:942\u001b[39m, in \u001b[36mHTTPConnectionPool.urlopen\u001b[39m\u001b[34m(self, method, url, body, headers, retries, redirect, assert_same_host, timeout, pool_timeout, release_conn, chunked, body_pos, preload_content, decode_content, **response_kw)\u001b[39m\n\u001b[32m    940\u001b[39m     retries.sleep(response)\n\u001b[32m    941\u001b[39m     log.debug(\u001b[33m\"\u001b[39m\u001b[33mRetry: \u001b[39m\u001b[38;5;132;01m%s\u001b[39;00m\u001b[33m\"\u001b[39m, url)\n\u001b[32m--> \u001b[39m\u001b[32m942\u001b[39m     \u001b[38;5;28;01mreturn\u001b[39;00m \u001b[38;5;28;43mself\u001b[39;49m\u001b[43m.\u001b[49m\u001b[43murlopen\u001b[49m\u001b[43m(\u001b[49m\n\u001b[32m    943\u001b[39m \u001b[43m        \u001b[49m\u001b[43mmethod\u001b[49m\u001b[43m,\u001b[49m\n\u001b[32m    944\u001b[39m \u001b[43m        \u001b[49m\u001b[43murl\u001b[49m\u001b[43m,\u001b[49m\n\u001b[32m    945\u001b[39m \u001b[43m        \u001b[49m\u001b[43mbody\u001b[49m\u001b[43m,\u001b[49m\n\u001b[32m    946\u001b[39m \u001b[43m        \u001b[49m\u001b[43mheaders\u001b[49m\u001b[43m,\u001b[49m\n\u001b[32m    947\u001b[39m \u001b[43m        \u001b[49m\u001b[43mretries\u001b[49m\u001b[43m=\u001b[49m\u001b[43mretries\u001b[49m\u001b[43m,\u001b[49m\n\u001b[32m    948\u001b[39m \u001b[43m        \u001b[49m\u001b[43mredirect\u001b[49m\u001b[43m=\u001b[49m\u001b[43mredirect\u001b[49m\u001b[43m,\u001b[49m\n\u001b[32m    949\u001b[39m \u001b[43m        \u001b[49m\u001b[43massert_same_host\u001b[49m\u001b[43m=\u001b[49m\u001b[43massert_same_host\u001b[49m\u001b[43m,\u001b[49m\n\u001b[32m    950\u001b[39m \u001b[43m        \u001b[49m\u001b[43mtimeout\u001b[49m\u001b[43m=\u001b[49m\u001b[43mtimeout\u001b[49m\u001b[43m,\u001b[49m\n\u001b[32m    951\u001b[39m \u001b[43m        \u001b[49m\u001b[43mpool_timeout\u001b[49m\u001b[43m=\u001b[49m\u001b[43mpool_timeout\u001b[49m\u001b[43m,\u001b[49m\n\u001b[32m    952\u001b[39m \u001b[43m        \u001b[49m\u001b[43mrelease_conn\u001b[49m\u001b[43m=\u001b[49m\u001b[43mrelease_conn\u001b[49m\u001b[43m,\u001b[49m\n\u001b[32m    953\u001b[39m \u001b[43m        \u001b[49m\u001b[43mchunked\u001b[49m\u001b[43m=\u001b[49m\u001b[43mchunked\u001b[49m\u001b[43m,\u001b[49m\n\u001b[32m    954\u001b[39m \u001b[43m        \u001b[49m\u001b[43mbody_pos\u001b[49m\u001b[43m=\u001b[49m\u001b[43mbody_pos\u001b[49m\u001b[43m,\u001b[49m\n\u001b[32m    955\u001b[39m \u001b[43m        \u001b[49m\u001b[43mpreload_content\u001b[49m\u001b[43m=\u001b[49m\u001b[43mpreload_content\u001b[49m\u001b[43m,\u001b[49m\n\u001b[32m    956\u001b[39m \u001b[43m        \u001b[49m\u001b[43mdecode_content\u001b[49m\u001b[43m=\u001b[49m\u001b[43mdecode_content\u001b[49m\u001b[43m,\u001b[49m\n\u001b[32m    957\u001b[39m \u001b[43m        \u001b[49m\u001b[43m*\u001b[49m\u001b[43m*\u001b[49m\u001b[43mresponse_kw\u001b[49m\u001b[43m,\u001b[49m\n\u001b[32m    958\u001b[39m \u001b[43m    \u001b[49m\u001b[43m)\u001b[49m\n\u001b[32m    960\u001b[39m \u001b[38;5;28;01mreturn\u001b[39;00m response\n",
      "    \u001b[31m[... skipping similar frames: HTTPConnectionPool.urlopen at line 942 (2 times)]\u001b[39m\n",
      "\u001b[36mFile \u001b[39m\u001b[32mc:\\Users\\alopezmoreno\\OneDrive - Microsoft\\Desktop\\MLOps-UTP\\mlops-course\\.venv\\Lib\\site-packages\\urllib3\\connectionpool.py:942\u001b[39m, in \u001b[36mHTTPConnectionPool.urlopen\u001b[39m\u001b[34m(self, method, url, body, headers, retries, redirect, assert_same_host, timeout, pool_timeout, release_conn, chunked, body_pos, preload_content, decode_content, **response_kw)\u001b[39m\n\u001b[32m    940\u001b[39m     retries.sleep(response)\n\u001b[32m    941\u001b[39m     log.debug(\u001b[33m\"\u001b[39m\u001b[33mRetry: \u001b[39m\u001b[38;5;132;01m%s\u001b[39;00m\u001b[33m\"\u001b[39m, url)\n\u001b[32m--> \u001b[39m\u001b[32m942\u001b[39m     \u001b[38;5;28;01mreturn\u001b[39;00m \u001b[38;5;28;43mself\u001b[39;49m\u001b[43m.\u001b[49m\u001b[43murlopen\u001b[49m\u001b[43m(\u001b[49m\n\u001b[32m    943\u001b[39m \u001b[43m        \u001b[49m\u001b[43mmethod\u001b[49m\u001b[43m,\u001b[49m\n\u001b[32m    944\u001b[39m \u001b[43m        \u001b[49m\u001b[43murl\u001b[49m\u001b[43m,\u001b[49m\n\u001b[32m    945\u001b[39m \u001b[43m        \u001b[49m\u001b[43mbody\u001b[49m\u001b[43m,\u001b[49m\n\u001b[32m    946\u001b[39m \u001b[43m        \u001b[49m\u001b[43mheaders\u001b[49m\u001b[43m,\u001b[49m\n\u001b[32m    947\u001b[39m \u001b[43m        \u001b[49m\u001b[43mretries\u001b[49m\u001b[43m=\u001b[49m\u001b[43mretries\u001b[49m\u001b[43m,\u001b[49m\n\u001b[32m    948\u001b[39m \u001b[43m        \u001b[49m\u001b[43mredirect\u001b[49m\u001b[43m=\u001b[49m\u001b[43mredirect\u001b[49m\u001b[43m,\u001b[49m\n\u001b[32m    949\u001b[39m \u001b[43m        \u001b[49m\u001b[43massert_same_host\u001b[49m\u001b[43m=\u001b[49m\u001b[43massert_same_host\u001b[49m\u001b[43m,\u001b[49m\n\u001b[32m    950\u001b[39m \u001b[43m        \u001b[49m\u001b[43mtimeout\u001b[49m\u001b[43m=\u001b[49m\u001b[43mtimeout\u001b[49m\u001b[43m,\u001b[49m\n\u001b[32m    951\u001b[39m \u001b[43m        \u001b[49m\u001b[43mpool_timeout\u001b[49m\u001b[43m=\u001b[49m\u001b[43mpool_timeout\u001b[49m\u001b[43m,\u001b[49m\n\u001b[32m    952\u001b[39m \u001b[43m        \u001b[49m\u001b[43mrelease_conn\u001b[49m\u001b[43m=\u001b[49m\u001b[43mrelease_conn\u001b[49m\u001b[43m,\u001b[49m\n\u001b[32m    953\u001b[39m \u001b[43m        \u001b[49m\u001b[43mchunked\u001b[49m\u001b[43m=\u001b[49m\u001b[43mchunked\u001b[49m\u001b[43m,\u001b[49m\n\u001b[32m    954\u001b[39m \u001b[43m        \u001b[49m\u001b[43mbody_pos\u001b[49m\u001b[43m=\u001b[49m\u001b[43mbody_pos\u001b[49m\u001b[43m,\u001b[49m\n\u001b[32m    955\u001b[39m \u001b[43m        \u001b[49m\u001b[43mpreload_content\u001b[49m\u001b[43m=\u001b[49m\u001b[43mpreload_content\u001b[49m\u001b[43m,\u001b[49m\n\u001b[32m    956\u001b[39m \u001b[43m        \u001b[49m\u001b[43mdecode_content\u001b[49m\u001b[43m=\u001b[49m\u001b[43mdecode_content\u001b[49m\u001b[43m,\u001b[49m\n\u001b[32m    957\u001b[39m \u001b[43m        \u001b[49m\u001b[43m*\u001b[49m\u001b[43m*\u001b[49m\u001b[43mresponse_kw\u001b[49m\u001b[43m,\u001b[49m\n\u001b[32m    958\u001b[39m \u001b[43m    \u001b[49m\u001b[43m)\u001b[49m\n\u001b[32m    960\u001b[39m \u001b[38;5;28;01mreturn\u001b[39;00m response\n",
      "\u001b[36mFile \u001b[39m\u001b[32mc:\\Users\\alopezmoreno\\OneDrive - Microsoft\\Desktop\\MLOps-UTP\\mlops-course\\.venv\\Lib\\site-packages\\urllib3\\connectionpool.py:940\u001b[39m, in \u001b[36mHTTPConnectionPool.urlopen\u001b[39m\u001b[34m(self, method, url, body, headers, retries, redirect, assert_same_host, timeout, pool_timeout, release_conn, chunked, body_pos, preload_content, decode_content, **response_kw)\u001b[39m\n\u001b[32m    937\u001b[39m     \u001b[38;5;28;01mreturn\u001b[39;00m response\n\u001b[32m    939\u001b[39m response.drain_conn()\n\u001b[32m--> \u001b[39m\u001b[32m940\u001b[39m \u001b[43mretries\u001b[49m\u001b[43m.\u001b[49m\u001b[43msleep\u001b[49m\u001b[43m(\u001b[49m\u001b[43mresponse\u001b[49m\u001b[43m)\u001b[49m\n\u001b[32m    941\u001b[39m log.debug(\u001b[33m\"\u001b[39m\u001b[33mRetry: \u001b[39m\u001b[38;5;132;01m%s\u001b[39;00m\u001b[33m\"\u001b[39m, url)\n\u001b[32m    942\u001b[39m \u001b[38;5;28;01mreturn\u001b[39;00m \u001b[38;5;28mself\u001b[39m.urlopen(\n\u001b[32m    943\u001b[39m     method,\n\u001b[32m    944\u001b[39m     url,\n\u001b[32m   (...)\u001b[39m\u001b[32m    957\u001b[39m     **response_kw,\n\u001b[32m    958\u001b[39m )\n",
      "\u001b[36mFile \u001b[39m\u001b[32mc:\\Users\\alopezmoreno\\OneDrive - Microsoft\\Desktop\\MLOps-UTP\\mlops-course\\.venv\\Lib\\site-packages\\urllib3\\util\\retry.py:363\u001b[39m, in \u001b[36mRetry.sleep\u001b[39m\u001b[34m(self, response)\u001b[39m\n\u001b[32m    360\u001b[39m     \u001b[38;5;28;01mif\u001b[39;00m slept:\n\u001b[32m    361\u001b[39m         \u001b[38;5;28;01mreturn\u001b[39;00m\n\u001b[32m--> \u001b[39m\u001b[32m363\u001b[39m \u001b[38;5;28;43mself\u001b[39;49m\u001b[43m.\u001b[49m\u001b[43m_sleep_backoff\u001b[49m\u001b[43m(\u001b[49m\u001b[43m)\u001b[49m\n",
      "\u001b[36mFile \u001b[39m\u001b[32mc:\\Users\\alopezmoreno\\OneDrive - Microsoft\\Desktop\\MLOps-UTP\\mlops-course\\.venv\\Lib\\site-packages\\urllib3\\util\\retry.py:347\u001b[39m, in \u001b[36mRetry._sleep_backoff\u001b[39m\u001b[34m(self)\u001b[39m\n\u001b[32m    345\u001b[39m \u001b[38;5;28;01mif\u001b[39;00m backoff <= \u001b[32m0\u001b[39m:\n\u001b[32m    346\u001b[39m     \u001b[38;5;28;01mreturn\u001b[39;00m\n\u001b[32m--> \u001b[39m\u001b[32m347\u001b[39m time.sleep(backoff)\n",
      "\u001b[31mKeyboardInterrupt\u001b[39m: "
     ]
    }
   ],
   "source": [
    "# Usando el nuevo enfoque con alias en lugar de stages\n",
    "client.set_registered_model_alias(\n",
    "    name=model_details.name,\n",
    "    alias=\"production\",\n",
    "    version=model_details.version\n",
    ")\n",
    "print(f\"Modelo versión {model_details.version} asignado al alias 'production'.\")"
   ]
  },
  {
   "cell_type": "code",
   "execution_count": null,
   "id": "cebf4635",
   "metadata": {},
   "outputs": [],
   "source": [
    "# %% [markdown]\n",
    "\n",
    "\n",
    "# %%\n",
    "\n",
    "\n",
    "# %% [markdown]\n",
    "# Podemos verificar los alias actuales del modelo para confirmar el cambio.\n",
    "\n",
    "# %%\n",
    "# Obtener información del modelo registrado\n",
    "registered_model = client.get_registered_model(name=model_details.name)\n",
    "print(f\"Alias del modelo '{model_details.name}':\")\n",
    "for alias in registered_model.aliases:\n",
    "    print(f\"  - {alias}: versión {registered_model.aliases[alias]}\")\n",
    "\n",
    "# %% [markdown]\n",
    "# ### Cargar y Usar un Modelo desde el Registro\n",
    "#\n",
    "# Ahora podemos cargar el modelo directamente desde el registro usando su alias. Cargarlo como `pyfunc` nos permite usarlo independientemente del framework con el que fue entrenado (en este caso, scikit-learn).\n",
    "\n",
    "# %%\n",
    "# La URI para cargar un modelo con un alias específico es \"models:/<nombre_modelo>@<alias>\"\n",
    "model_production_uri = f\"models:/{model_name}@production\"\n",
    "\n",
    "print(f\"Cargando modelo en producción desde la URI: '{model_production_uri}'\")\n",
    "production_model = mlflow.pyfunc.load_model(model_production_uri)\n",
    "\n",
    "# Aplicamos el modelo para hacer predicciones\n",
    "predicciones = production_model.predict(X_test)\n",
    "print(\"Predicciones realizadas con el modelo de producción:\")\n",
    "print(predicciones)\n",
    "\n",
    "# %% [markdown]\n",
    "# ### Desplegar una Nueva Versión del Modelo\n",
    "#\n",
    "# El ciclo de vida de un modelo no termina con el primer despliegue. A menudo, reentrenaremos el modelo con nuevos datos, algoritmos o hiperparámetros. El Registro de Modelos nos permite gestionar este proceso de forma ordenada.\n",
    "#\n",
    "# Ahora entrenaremos un modelo más potente y lo registraremos como una nueva versión.\n",
    "\n",
    "# %%\n",
    "# Nuevos hiperparámetros\n",
    "n_estimators = 300\n",
    "max_depth = 10\n",
    "\n",
    "rf_v2 = RandomForestClassifier(n_estimators=n_estimators, max_depth=max_depth)\n",
    "rf_v2.fit(X_train, y_train)\n",
    "\n",
    "input_example = X_train.head(3)\n",
    "signature = infer_signature(X_train, pd.DataFrame(y_train))\n",
    "\n",
    "with mlflow.start_run(run_name=\"Modelo RF - v2\") as run:\n",
    "    # Al usar 'registered_model_name', MLflow registra el modelo\n",
    "    # y crea automáticamente una nueva versión.\n",
    "    mlflow.sklearn.log_model(\n",
    "        sk_model=rf_v2,\n",
    "        artifact_path=\"sklearn-model-v2\",\n",
    "        registered_model_name=model_name, # <-- Esto registra la nueva versión\n",
    "        input_example=input_example,\n",
    "        signature=signature\n",
    "    )\n",
    "    mlflow.log_metric(\"auc\", roc_auc_score(y_test, rf_v2.predict(X_test)))\n",
    "    mlflow.log_param(\"n_estimators\", n_estimators)\n",
    "    mlflow.log_param(\"max_depth\", max_depth)\n",
    "    \n",
    "    run_id_v2 = run.info.run_id\n",
    "    print(f\"Nueva versión del modelo guardada en la ejecución: {run_id_v2}\")\n",
    "\n",
    "# %% [markdown]\n",
    "# **Vuelve a revisar la interfaz de MLflow.** Verás que ha aparecido la \"Version 2\" del modelo.\n",
    "#\n",
    "# Ahora, vamos a gestionar su ciclo de vida.\n",
    "\n",
    "# %%\n",
    "# Buscamos la última versión del modelo\n",
    "model_version_infos = client.search_model_versions(f\"name = '{model_name}'\")\n",
    "new_model_version = max([model_version_info.version for model_version_info in model_version_infos])\n",
    "print(f\"La nueva versión del modelo es: {new_model_version}\")\n",
    "\n",
    "# Esperamos por si el registro aún está pendiente\n",
    "print(\"Esperando 10 segundos...\")\n",
    "time.sleep(10)\n",
    "\n",
    "# Añadimos una descripción a la nueva versión\n",
    "client.update_model_version(\n",
    "    name=model_name,\n",
    "    version=new_model_version,\n",
    "    description=\"Este modelo es un clasificador aleatorio con 300 árboles de decisión y una profundidad máxima de 10.\"\n",
    ")\n",
    "\n",
    "# Asignamos un alias 'staging' a la nueva versión para pruebas\n",
    "client.set_registered_model_alias(\n",
    "    name=model_name,\n",
    "    alias=\"staging\",\n",
    "    version=new_model_version\n",
    ")\n",
    "print(f\"Versión {new_model_version} asignada al alias 'staging'.\")\n",
    "\n",
    "# %% [markdown]\n",
    "# Una vez que el modelo en `staging` ha pasado todas las pruebas de un pipeline de CI/CD, podemos promoverlo a `production`. Al hacerlo, el alias `production` se moverá automáticamente a la nueva versión.\n",
    "\n",
    "# %%\n",
    "# Promovemos la nueva versión a production\n",
    "client.set_registered_model_alias(\n",
    "    name=model_name,\n",
    "    alias=\"production\",\n",
    "    version=new_model_version\n",
    ")\n",
    "\n",
    "# Opcionalmente, podemos eliminar el alias staging\n",
    "client.delete_registered_model_alias(\n",
    "    name=model_name,\n",
    "    alias=\"staging\"\n",
    ")\n",
    "\n",
    "print(f\"Versión {new_model_version} promovida a 'production'. El alias 'staging' ha sido eliminado.\")\n",
    "\n",
    "\n",
    "# %% [markdown]\n",
    "# ### Gestionar Modelos con Alias\n",
    "#\n",
    "# Con el nuevo sistema de alias, la gestión de modelos es más flexible. Podemos tener múltiples alias apuntando a diferentes versiones según nuestras necesidades.\n",
    "\n",
    "# %% [markdown]\n",
    "# Ahora podemos gestionar las versiones de modelos de manera más flexible. En lugar de eliminar versiones, simplemente gestionamos los alias.\n",
    "\n",
    "# %%\n",
    "# Verificar todos los alias actuales\n",
    "registered_model = client.get_registered_model(name=model_name)\n",
    "print(f\"Alias actuales del modelo '{model_name}':\")\n",
    "for alias_name, version in registered_model.aliases.items():\n",
    "    print(f\"  - {alias_name}: versión {version}\")\n",
    "\n",
    "# Si queremos \"archivar\" una versión, simplemente removemos todos sus alias\n",
    "# y opcionalmente podemos agregar un alias 'archived' si lo deseamos\n",
    "if len(registered_model.aliases) > 0:\n",
    "    # Crear un alias 'archived' para la versión anterior (si existe)\n",
    "    try:\n",
    "        client.set_registered_model_alias(\n",
    "            name=model_name,\n",
    "            alias=\"archived\",\n",
    "            version=\"1\"  # Version anterior\n",
    "        )\n",
    "        print(\"Versión 1 marcada como 'archived'.\")\n",
    "    except Exception as e:\n",
    "        print(f\"No se pudo archivar la versión 1: {e}\")\n",
    "\n",
    "# %% [markdown]\n",
    "# Por último, si el modelo ya no es relevante, podemos eliminar todo el registro del modelo. Para ello, primero debemos eliminar todos los alias.\n",
    "\n",
    "# %%\n",
    "# Eliminar todos los alias antes de eliminar el modelo\n",
    "registered_model = client.get_registered_model(name=model_name)\n",
    "for alias_name in registered_model.aliases.keys():\n",
    "    client.delete_registered_model_alias(\n",
    "        name=model_name,\n",
    "        alias=alias_name\n",
    "    )\n",
    "    print(f\"Alias '{alias_name}' eliminado.\")\n",
    "\n",
    "# Ahora eliminamos todo el modelo registrado\n",
    "client.delete_registered_model(model_name)\n",
    "print(f\"El modelo registrado '{model_name}' ha sido eliminado.\")"
   ]
  },
  {
   "cell_type": "markdown",
   "id": "30a94a55",
   "metadata": {},
   "source": []
  }
 ],
 "metadata": {
  "kernelspec": {
   "display_name": "mlops-course",
   "language": "python",
   "name": "python3"
  },
  "language_info": {
   "codemirror_mode": {
    "name": "ipython",
    "version": 3
   },
   "file_extension": ".py",
   "mimetype": "text/x-python",
   "name": "python",
   "nbconvert_exporter": "python",
   "pygments_lexer": "ipython3",
   "version": "3.11.9"
  }
 },
 "nbformat": 4,
 "nbformat_minor": 5
}
